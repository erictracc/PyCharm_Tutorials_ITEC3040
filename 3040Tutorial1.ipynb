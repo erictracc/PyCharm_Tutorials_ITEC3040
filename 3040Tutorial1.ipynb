{
 "cells": [
  {
   "metadata": {},
   "cell_type": "markdown",
   "source": [
    "# ITEC3040 Tutorial 1\n",
    "\n",
    "Below is an example of a code cell. \n",
    "Put your cursor into the cell and press Shift+Enter to execute it and select the next one, or click 'Run Cell' button.\n",
    "\n",
    "Press Double Shift to search everywhere for classes, files, tool windows, actions, and settings.\n",
    "\n",
    "To learn more about Jupyter Notebooks in PyCharm, see [help](https://www.jetbrains.com/help/pycharm/ipython-notebook-support.html).\n",
    "For an overview of PyCharm, go to Help -> Learn IDE features or refer to [our documentation](https://www.jetbrains.com/help/pycharm/getting-started.html)."
   ],
   "id": "8a77807f92f26ee"
  },
  {
   "metadata": {
    "ExecuteTime": {
     "end_time": "2025-09-10T04:12:09.808645Z",
     "start_time": "2025-09-10T04:12:09.803076Z"
    }
   },
   "cell_type": "code",
   "source": "print(\"Hello World!\")\n",
   "id": "fbc121e30a2defb3",
   "outputs": [
    {
     "name": "stdout",
     "output_type": "stream",
     "text": [
      "Hello World!\n"
     ]
    }
   ],
   "execution_count": 8
  },
  {
   "metadata": {},
   "cell_type": "markdown",
   "source": [
    "# Exercise 1 (Chapter 2)\n",
    "\n",
    "Exercise\n",
    "\n",
    "Write a program to prompt the user for hours and rate per hour to compute gross pay.\n",
    "\n",
    "Example:\n",
    "\n",
    "Enter Hours: 35\n",
    "<br>Enter Rate: 2.75\n",
    "<br>Pay: 96.25"
   ],
   "id": "9c95278b5779a0d9"
  },
  {
   "metadata": {
    "ExecuteTime": {
     "end_time": "2025-09-10T04:12:43.373391Z",
     "start_time": "2025-09-10T04:12:37.210637Z"
    }
   },
   "cell_type": "code",
   "source": [
    "# Prompt user for input\n",
    "hours = input(\"Enter Hours: \")\n",
    "rate = input(\"Enter Rate: \")\n",
    "\n",
    "# Convert strings to numbers\n",
    "hours = float(hours)\n",
    "rate = float(rate)\n",
    "\n",
    "# Compute pay\n",
    "pay = hours * rate\n",
    "\n",
    "print(\"Pay:\", pay)\n"
   ],
   "id": "aee246a33497fbfa",
   "outputs": [
    {
     "name": "stdout",
     "output_type": "stream",
     "text": [
      "Pay: 100.0\n"
     ]
    }
   ],
   "execution_count": 10
  },
  {
   "metadata": {},
   "cell_type": "markdown",
   "source": "# Improved Version (with error handling)",
   "id": "9086589753a40542"
  },
  {
   "metadata": {
    "ExecuteTime": {
     "end_time": "2025-09-10T04:12:57.318093Z",
     "start_time": "2025-09-10T04:12:51.203042Z"
    }
   },
   "cell_type": "code",
   "source": [
    "try:\n",
    "    # Prompt user for input\n",
    "    hours = input(\"Enter Hours: \")\n",
    "    rate = input(\"Enter Rate: \")\n",
    "\n",
    "    print('Enter Hours: ', hours)\n",
    "    print('Enter Rate: ', rate)\n",
    "\n",
    "    # Convert to numbers\n",
    "    hours = float(hours)\n",
    "    rate = float(rate)\n",
    "\n",
    "    # Compute pay\n",
    "    pay = hours * rate\n",
    "    print(\"\\nPay:\", pay)\n",
    "\n",
    "except ValueError:\n",
    "    print(\"Error: Please enter numeric values for hours and rate.\")\n"
   ],
   "id": "a1b4a57414483b28",
   "outputs": [
    {
     "name": "stdout",
     "output_type": "stream",
     "text": [
      "Enter Hours:  45\n",
      "Enter Rate:  10\n",
      "\n",
      "Pay: 450.0\n"
     ]
    }
   ],
   "execution_count": 11
  },
  {
   "metadata": {},
   "cell_type": "markdown",
   "source": [
    "# Exercise 1 (Chapter 3)\n",
    "\n",
    "Rewrite your pay computation to give the employee 1.5 times the hourly rate for hours worked above 40 hours.\n",
    "\n",
    "Example:\n",
    "<br>Enter Hours: 45\n",
    "<br>Enter Rate: 10\n",
    "<br><br>Pay: 475.0\n",
    "\n",
    "(since 475 = 40 × 10 + 5 × 15)"
   ],
   "id": "b4e9ea0e117b16ce"
  },
  {
   "metadata": {
    "ExecuteTime": {
     "end_time": "2025-09-10T04:13:09.539290Z",
     "start_time": "2025-09-10T04:13:02.169631Z"
    }
   },
   "cell_type": "code",
   "source": [
    "hours = float(input(\"Enter Hours: \"))\n",
    "rate = float(input(\"Enter Rate: \"))\n",
    "\n",
    "print('Enter Hours: ', hours)\n",
    "print('Enter Rate: ', rate)\n",
    "\n",
    "if hours > 40:\n",
    "    regular = 40 * rate\n",
    "    overtime = (hours - 40) * rate * 1.5\n",
    "    pay = regular + overtime\n",
    "else:\n",
    "    pay = hours * rate\n",
    "\n",
    "print(\"\\nPay:\", pay)\n"
   ],
   "id": "b1b693375e5fc0a4",
   "outputs": [
    {
     "name": "stdout",
     "output_type": "stream",
     "text": [
      "Enter Hours:  45.0\n",
      "Enter Rate:  10.0\n",
      "\n",
      "Pay: 475.0\n"
     ]
    }
   ],
   "execution_count": 12
  },
  {
   "metadata": {},
   "cell_type": "markdown",
   "source": [
    "# Exercise 2 (Chapter 3)\n",
    "\n",
    "Rewrite your pay program using try and except so\n",
    "that your program handles non-numeric input\n",
    "gracefully.\n",
    "\n",
    "<br>Enter Hours: 20\n",
    "<br>Enter Rate: nine\n",
    "<br><br>Error, please enter numeric input\n",
    "\n",
    "<br><br>Enter Hours: forty\n",
    "<br><br>Error, please enter numeric input"
   ],
   "id": "5c932bc66056f2e3"
  },
  {
   "metadata": {
    "ExecuteTime": {
     "end_time": "2025-09-10T04:13:20.423165Z",
     "start_time": "2025-09-10T04:13:13.093457Z"
    }
   },
   "cell_type": "code",
   "source": [
    "try:\n",
    "    hours1 = float(input(\"Enter Hours: \"))\n",
    "    print(\"Enter Hours:\", hours1)\n",
    "    rate1 = float(input(\"Enter Rate: \"))\n",
    "    print(\"Enter Rate:\", rate1)\n",
    "\n",
    "    if hours1 > 40:\n",
    "        regular = 40 * rate1\n",
    "        overtime = (hours1 - 40) * rate1 * 1.5\n",
    "        pay1 = regular + overtime\n",
    "    else:\n",
    "        pay1 = hours1 * rate1\n",
    "\n",
    "    print(\"Pay:\", pay1)\n",
    "\n",
    "except:\n",
    "    print(\"Error, please enter numeric input\")\n"
   ],
   "id": "b3cc2bb46fcf41d8",
   "outputs": [
    {
     "name": "stdout",
     "output_type": "stream",
     "text": [
      "Enter Hours: 40.0\n",
      "Enter Rate: 10.0\n",
      "Pay: 400.0\n"
     ]
    }
   ],
   "execution_count": 13
  },
  {
   "metadata": {},
   "cell_type": "markdown",
   "source": [
    "# Exercise 1 (Chapter 4)\n",
    "\n",
    "Rewrite your pay computation with time-and-a-\n",
    "half for overtime and create a function called\n",
    "\n",
    "computepay which takes two parameters ( hours\n",
    "and rate).\n",
    "\n",
    "<br>Enter Hours: 45\n",
    "<br>Enter Rate: 10\n",
    "\n",
    "<br>Pay: 475.0"
   ],
   "id": "54b4294edd9bc67f"
  },
  {
   "metadata": {
    "ExecuteTime": {
     "end_time": "2025-09-10T04:13:31.043254Z",
     "start_time": "2025-09-10T04:13:24.867212Z"
    }
   },
   "cell_type": "code",
   "source": [
    "def computepay(hours, rate):\n",
    "    if hours > 40:\n",
    "        overtime = hours - 40\n",
    "        pay = (40 * rate) + (overtime * rate * 1.5)\n",
    "    else:\n",
    "        pay = hours * rate\n",
    "    return pay\n",
    "\n",
    "# Input from user\n",
    "hrs = float(input(\"Enter Hours: \"))\n",
    "rt = float(input(\"Enter Rate: \"))\n",
    "\n",
    "# Call the function\n",
    "p = computepay(hrs, rt)\n",
    "print(\"Pay:\", p)\n"
   ],
   "id": "ba3afcd3be9e4efb",
   "outputs": [
    {
     "name": "stdout",
     "output_type": "stream",
     "text": [
      "Pay: 475.0\n"
     ]
    }
   ],
   "execution_count": 14
  },
  {
   "metadata": {},
   "cell_type": "markdown",
   "source": [
    "# Exercise 1 (Chapter 4)\n",
    "\n",
    "With Error Handling"
   ],
   "id": "b6dda9f53753fa79"
  },
  {
   "metadata": {
    "ExecuteTime": {
     "end_time": "2025-09-10T04:13:57.574878Z",
     "start_time": "2025-09-10T04:13:40.405460Z"
    }
   },
   "cell_type": "code",
   "source": [
    "def computepay(hours, rate):\n",
    "    if hours > 40:\n",
    "        overtime = hours - 40\n",
    "        pay = (40 * rate) + (overtime * rate * 1.5)\n",
    "    else:\n",
    "        pay = hours * rate\n",
    "    return pay\n",
    "\n",
    "def get_float(prompt):\n",
    "    \"\"\"Keep asking until user enters a valid float.\"\"\"\n",
    "    while True:\n",
    "        try:\n",
    "            return float(input(prompt))\n",
    "        except ValueError:\n",
    "            print(\"Invalid input. Please enter a number.\")\n",
    "\n",
    "# Safe input\n",
    "hrs = get_float(\"Enter Hours: \")\n",
    "rt = get_float(\"Enter Rate: \")\n",
    "\n",
    "# Compute pay\n",
    "p = computepay(hrs, rt)\n",
    "\n",
    "# Print twice for clarity\n",
    "print(\"Pay:\", p)\n",
    "print(\"Final Pay Computed:\", p)\n"
   ],
   "id": "b54a1672e2da5c78",
   "outputs": [
    {
     "name": "stdout",
     "output_type": "stream",
     "text": [
      "Invalid input. Please enter a number.\n",
      "Invalid input. Please enter a number.\n",
      "Pay: 400.0\n",
      "Final Pay Computed: 400.0\n"
     ]
    }
   ],
   "execution_count": 15
  }
 ],
 "metadata": {
  "kernelspec": {
   "display_name": "Python 3",
   "language": "python",
   "name": "python3"
  },
  "language_info": {
   "codemirror_mode": {
    "name": "ipython",
    "version": 2
   },
   "file_extension": ".py",
   "mimetype": "text/x-python",
   "name": "python",
   "nbconvert_exporter": "python",
   "pygments_lexer": "ipython2",
   "version": "2.7.6"
  }
 },
 "nbformat": 4,
 "nbformat_minor": 5
}
